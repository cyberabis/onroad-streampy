{
 "cells": [
  {
   "cell_type": "code",
   "execution_count": 3,
   "metadata": {
    "collapsed": false
   },
   "outputs": [
    {
     "name": "stdout",
     "output_type": "stream",
     "text": [
      "env: NS_KEY=7fKiSf3Eu47SYzQbTpM2Uy15WKeM035vWJeGZOl3fTY=\n"
     ]
    }
   ],
   "source": [
    "%env NS_KEY=7fKiSf3Eu47SYzQbTpM2Uy15WKeM035vWJeGZOl3fTY="
   ]
  },
  {
   "cell_type": "code",
   "execution_count": 4,
   "metadata": {
    "collapsed": false
   },
   "outputs": [],
   "source": [
    "import os\n",
    "from azure.servicebus import ServiceBusService, Message, Topic, Rule, DEFAULT_RULE_NAME\n",
    "from firebase import firebase\n",
    "import json\n",
    "import uuid\n",
    "\n",
    "ns_key = os.environ.get('NS_KEY')\n",
    "firebase = firebase.FirebaseApplication('https://logbasedev.firebaseio.com/', None)\n",
    "\n",
    "bus_service = ServiceBusService(\n",
    "    service_namespace='onroad-ns',\n",
    "    shared_access_key_name='RootManageSharedAccessKey',\n",
    "    shared_access_key_value=ns_key)\n"
   ]
  },
  {
   "cell_type": "code",
   "execution_count": null,
   "metadata": {
    "collapsed": false,
    "scrolled": true
   },
   "outputs": [],
   "source": [
    "while True:\n",
    "    msg = bus_service.receive_subscription_message('onroad-alerts', 'alerts-consumer', peek_lock=False)\n",
    "    if msg.body:\n",
    "        alert = json.loads(msg.body)\n",
    "        print('running... ')\n",
    "        #TODO: Improve, take the last item only  \n",
    "        for event in alert['location']:\n",
    "            alert_location = {'latitude':event['lat'], 'longitude':event['long'], 'locationtime':event['time']};\n",
    "        #TODO: Remove device number hard coding\n",
    "        new_alert = {'alertid': str(uuid.uuid1()), 'alerttype': alert['alert'], 'devicenumber': '8650670123456', 'latitude': alert_location['latitude'], 'longitude': alert_location['longitude'], 'status':'Open', 'time': alert_location['locationtime']}\n",
    "        print new_alert\n",
    "        firebase.post('/account/simplelogin:2/alerts', new_alert)"
   ]
  },
  {
   "cell_type": "code",
   "execution_count": null,
   "metadata": {
    "collapsed": true
   },
   "outputs": [],
   "source": []
  }
 ],
 "metadata": {
  "kernelspec": {
   "display_name": "Python 2",
   "language": "python",
   "name": "python2"
  },
  "language_info": {
   "codemirror_mode": {
    "name": "ipython",
    "version": 2
   },
   "file_extension": ".py",
   "mimetype": "text/x-python",
   "name": "python",
   "nbconvert_exporter": "python",
   "pygments_lexer": "ipython2",
   "version": "2.7.8"
  }
 },
 "nbformat": 4,
 "nbformat_minor": 0
}
